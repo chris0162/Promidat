{
  "nbformat": 4,
  "nbformat_minor": 0,
  "metadata": {
    "colab": {
      "provenance": [],
      "authorship_tag": "ABX9TyPq9IbZr2bh1VD8z/BHF1V7",
      "include_colab_link": true
    },
    "kernelspec": {
      "name": "python3",
      "display_name": "Python 3"
    },
    "language_info": {
      "name": "python"
    }
  },
  "cells": [
    {
      "cell_type": "markdown",
      "metadata": {
        "id": "view-in-github",
        "colab_type": "text"
      },
      "source": [
        "<a href=\"https://colab.research.google.com/github/chris0162/Promidat/blob/main/Tarea_2_Preg_4.ipynb\" target=\"_parent\"><img src=\"https://colab.research.google.com/assets/colab-badge.svg\" alt=\"Open In Colab\"/></a>"
      ]
    },
    {
      "cell_type": "code",
      "execution_count": null,
      "metadata": {
        "id": "h-NwdF4sVL_P"
      },
      "outputs": [],
      "source": [
        "import pandas as pd\n",
        "import numpy as np\n",
        "\n",
        "url = \"https://raw.githubusercontent.com/chris0162/Promidat/main/curso04/tarea2/Pregunta%204.csv\"\n",
        "df = pd.read_csv(url,sep=\";\")"
      ]
    },
    {
      "cell_type": "code",
      "source": [
        "df.Score=df.Score.apply(lambda x: x.replace(\",\", \".\"))\n",
        "df.Score=df.Score.astype('float64')"
      ],
      "metadata": {
        "id": "YqvU3GICa11o"
      },
      "execution_count": null,
      "outputs": []
    },
    {
      "cell_type": "code",
      "source": [
        "def Roc(df,umbral):\n",
        "  # df[\"Clase_Pred\"] = df.\n",
        "  df[\"Clase_Pred\"] = df.Score.apply(lambda x : \"P\" if x>umbral else \"N\")\n",
        "  TN = len(df[(df.Clase==\"N\")&(df.Clase_Pred==\"N\")])\n",
        "  TP = len(df[(df.Clase==\"P\")&(df.Clase_Pred==\"P\")])\n",
        "  FN = len(df[(df.Clase==\"P\")&(df.Clase_Pred==\"N\")])\n",
        "  FP = len(df[(df.Clase==\"N\")&(df.Clase_Pred==\"P\")])\n",
        "  x = FP/(TN+FP)\n",
        "  y = TP/(FN+TP)\n",
        "  print(\"Probabilidad de Corte: \",umbral)\n",
        "  print(\"Matriz de confusión\")\n",
        "  print(\"            \",\"Prediccion\")\n",
        "  print(\"               N\",\"    P\")\n",
        "  print(\"Real    \", \"N\",\" | \",TN,\" | \",FP,\" | \")\n",
        "  print(\"        \",\"P  | \",FN,\" | \",TP,\" | \")\n",
        "  return x,y"
      ],
      "metadata": {
        "id": "1Cf47CP2eYP4"
      },
      "execution_count": null,
      "outputs": []
    },
    {
      "cell_type": "code",
      "source": [
        "Roc_data=[]\n",
        "for i in list(range(0,105,5)):\n",
        "  print(\"\")\n",
        "  umbral = float(i)/100\n",
        "  Roc_data.append(Roc(df,umbral))"
      ],
      "metadata": {
        "id": "PpWElTurgfdS",
        "colab": {
          "base_uri": "https://localhost:8080/"
        },
        "outputId": "24e3687f-286d-4bd7-f979-75e30839a091"
      },
      "execution_count": null,
      "outputs": [
        {
          "output_type": "stream",
          "name": "stdout",
          "text": [
            "\n",
            "Probabilidad de Corte:  0.0\n",
            "Matriz de confusión\n",
            "             Prediccion\n",
            "               N     P\n",
            "Real     N  |  1  |  5  | \n",
            "         P  |  0  |  4  | \n",
            "\n",
            "Probabilidad de Corte:  0.05\n",
            "Matriz de confusión\n",
            "             Prediccion\n",
            "               N     P\n",
            "Real     N  |  1  |  5  | \n",
            "         P  |  0  |  4  | \n",
            "\n",
            "Probabilidad de Corte:  0.1\n",
            "Matriz de confusión\n",
            "             Prediccion\n",
            "               N     P\n",
            "Real     N  |  2  |  4  | \n",
            "         P  |  0  |  4  | \n",
            "\n",
            "Probabilidad de Corte:  0.15\n",
            "Matriz de confusión\n",
            "             Prediccion\n",
            "               N     P\n",
            "Real     N  |  2  |  4  | \n",
            "         P  |  1  |  3  | \n",
            "\n",
            "Probabilidad de Corte:  0.2\n",
            "Matriz de confusión\n",
            "             Prediccion\n",
            "               N     P\n",
            "Real     N  |  3  |  3  | \n",
            "         P  |  1  |  3  | \n",
            "\n",
            "Probabilidad de Corte:  0.25\n",
            "Matriz de confusión\n",
            "             Prediccion\n",
            "               N     P\n",
            "Real     N  |  3  |  3  | \n",
            "         P  |  1  |  3  | \n",
            "\n",
            "Probabilidad de Corte:  0.3\n",
            "Matriz de confusión\n",
            "             Prediccion\n",
            "               N     P\n",
            "Real     N  |  3  |  3  | \n",
            "         P  |  1  |  3  | \n",
            "\n",
            "Probabilidad de Corte:  0.35\n",
            "Matriz de confusión\n",
            "             Prediccion\n",
            "               N     P\n",
            "Real     N  |  3  |  3  | \n",
            "         P  |  1  |  3  | \n",
            "\n",
            "Probabilidad de Corte:  0.4\n",
            "Matriz de confusión\n",
            "             Prediccion\n",
            "               N     P\n",
            "Real     N  |  3  |  3  | \n",
            "         P  |  2  |  2  | \n",
            "\n",
            "Probabilidad de Corte:  0.45\n",
            "Matriz de confusión\n",
            "             Prediccion\n",
            "               N     P\n",
            "Real     N  |  3  |  3  | \n",
            "         P  |  2  |  2  | \n",
            "\n",
            "Probabilidad de Corte:  0.5\n",
            "Matriz de confusión\n",
            "             Prediccion\n",
            "               N     P\n",
            "Real     N  |  4  |  2  | \n",
            "         P  |  2  |  2  | \n",
            "\n",
            "Probabilidad de Corte:  0.55\n",
            "Matriz de confusión\n",
            "             Prediccion\n",
            "               N     P\n",
            "Real     N  |  4  |  2  | \n",
            "         P  |  2  |  2  | \n",
            "\n",
            "Probabilidad de Corte:  0.6\n",
            "Matriz de confusión\n",
            "             Prediccion\n",
            "               N     P\n",
            "Real     N  |  4  |  2  | \n",
            "         P  |  2  |  2  | \n",
            "\n",
            "Probabilidad de Corte:  0.65\n",
            "Matriz de confusión\n",
            "             Prediccion\n",
            "               N     P\n",
            "Real     N  |  4  |  2  | \n",
            "         P  |  3  |  1  | \n",
            "\n",
            "Probabilidad de Corte:  0.7\n",
            "Matriz de confusión\n",
            "             Prediccion\n",
            "               N     P\n",
            "Real     N  |  5  |  1  | \n",
            "         P  |  3  |  1  | \n",
            "\n",
            "Probabilidad de Corte:  0.75\n",
            "Matriz de confusión\n",
            "             Prediccion\n",
            "               N     P\n",
            "Real     N  |  5  |  1  | \n",
            "         P  |  3  |  1  | \n",
            "\n",
            "Probabilidad de Corte:  0.8\n",
            "Matriz de confusión\n",
            "             Prediccion\n",
            "               N     P\n",
            "Real     N  |  6  |  0  | \n",
            "         P  |  3  |  1  | \n",
            "\n",
            "Probabilidad de Corte:  0.85\n",
            "Matriz de confusión\n",
            "             Prediccion\n",
            "               N     P\n",
            "Real     N  |  6  |  0  | \n",
            "         P  |  3  |  1  | \n",
            "\n",
            "Probabilidad de Corte:  0.9\n",
            "Matriz de confusión\n",
            "             Prediccion\n",
            "               N     P\n",
            "Real     N  |  6  |  0  | \n",
            "         P  |  3  |  1  | \n",
            "\n",
            "Probabilidad de Corte:  0.95\n",
            "Matriz de confusión\n",
            "             Prediccion\n",
            "               N     P\n",
            "Real     N  |  6  |  0  | \n",
            "         P  |  4  |  0  | \n",
            "\n",
            "Probabilidad de Corte:  1.0\n",
            "Matriz de confusión\n",
            "             Prediccion\n",
            "               N     P\n",
            "Real     N  |  6  |  0  | \n",
            "         P  |  4  |  0  | \n"
          ]
        }
      ]
    },
    {
      "cell_type": "code",
      "source": [
        "ax=Roc_curve.plot(x=\"x\",y=\"y\",kind=\"scatter\",style=\"b\")\n",
        "Roc_curve.plot.line(x=\"x\", y=\"y\", ax=ax, style='b',grid=True, xlabel=\"Especificidad\",ylabel=\"Sensibilidad\")"
      ],
      "metadata": {
        "colab": {
          "base_uri": "https://localhost:8080/",
          "height": 466
        },
        "id": "2Z9gJEfyq511",
        "outputId": "3c64dbb7-1145-41d9-fcbd-c548f1e0623c"
      },
      "execution_count": null,
      "outputs": [
        {
          "output_type": "execute_result",
          "data": {
            "text/plain": [
              "<Axes: xlabel='Especificidad', ylabel='Sensibilidad'>"
            ]
          },
          "metadata": {},
          "execution_count": 432
        },
        {
          "output_type": "display_data",
          "data": {
            "text/plain": [
              "<Figure size 640x480 with 1 Axes>"
            ],
            "image/png": "[encoded data removed]"
          },
          "metadata": {}
        }
      ]
    }
  ]
}